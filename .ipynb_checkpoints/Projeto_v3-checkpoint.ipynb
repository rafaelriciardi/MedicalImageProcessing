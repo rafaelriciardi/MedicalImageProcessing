{
 "cells": [
  {
   "cell_type": "code",
   "execution_count": null,
   "metadata": {},
   "outputs": [],
   "source": [
    "import os\n",
    "import cv2\n",
    "import gdcm\n",
    "import pydicom\n",
    "import numpy as np\n",
    "import SimpleITK as sitk\n",
    "import matplotlib.pyplot as plt\n",
    "\n",
    "from dicom2stl.examples import gui\n",
    "from dicom2stl.utils import vtkutils\n",
    "from dicom2stl.examples.myshow import myshow, myshow3d\n",
    "\n",
    "from pydicom import dcmread\n",
    "from pydicom.data import get_testdata_file\n",
    "from pydicom.uid import ExplicitVRLittleEndian\n",
    "\n",
    "from skimage import feature, filters\n",
    "from skimage.filters import roberts, sobel, scharr, prewitt\n",
    "\n",
    "from scipy import ndimage\n",
    "from PIL import Image, ImageFilter\n",
    "\n",
    "import itkwidgets\n",
    "\n",
    "%load_ext autoreload\n",
    "%autoreload 1"
   ]
  },
  {
   "cell_type": "code",
   "execution_count": null,
   "metadata": {},
   "outputs": [],
   "source": [
    "%matplotlib notebook"
   ]
  },
  {
   "cell_type": "markdown",
   "metadata": {},
   "source": [
    "## Original Images"
   ]
  },
  {
   "cell_type": "code",
   "execution_count": null,
   "metadata": {},
   "outputs": [],
   "source": [
    "path = \"pos_twist_05iso_37\""
   ]
  },
  {
   "cell_type": "code",
   "execution_count": null,
   "metadata": {},
   "outputs": [],
   "source": [
    "reader = sitk.ImageSeriesReader()\n",
    "dicom_names = reader.GetGDCMSeriesFileNames(path)\n",
    "reader.SetFileNames(dicom_names)\n",
    "original_image = reader.Execute()\n",
    "\n",
    "size = original_image.GetSize()\n",
    "size"
   ]
  },
  {
   "cell_type": "code",
   "execution_count": null,
   "metadata": {
    "scrolled": false
   },
   "outputs": [],
   "source": [
    "gui.MultiImageDisplay(image_list=[original_image], title_list=['Mouse Viewer'], figure_size=(8,6))"
   ]
  },
  {
   "cell_type": "markdown",
   "metadata": {},
   "source": [
    "## Filter Images"
   ]
  },
  {
   "cell_type": "code",
   "execution_count": null,
   "metadata": {},
   "outputs": [],
   "source": [
    "#!mkdir filter_images"
   ]
  },
  {
   "cell_type": "code",
   "execution_count": null,
   "metadata": {},
   "outputs": [],
   "source": [
    "def save_dicom_file(original_file, new_array, file_path):\n",
    "\n",
    "    original_file.file_meta.TransferSyntaxUID = ExplicitVRLittleEndian\n",
    "    original_file.PixelData = new_array.tobytes()\n",
    "    original_file.save_as(file_path)"
   ]
  },
  {
   "cell_type": "code",
   "execution_count": null,
   "metadata": {},
   "outputs": [],
   "source": [
    "def intensity_filter(pixel_array, value=75):\n",
    "    pixel_array = np.array(pixel_array)\n",
    "    pixel_array[pixel_array<=value] = 0\n",
    "    return pixel_array\n",
    "\n",
    "def noise_filter(img):\n",
    "    img = np.array(img)\n",
    "    w = np.ones([5,5])/25\n",
    "    Im_filter = ndimage.convolve(img,w, mode='reflect')\n",
    "    return Im_filter\n",
    "\n",
    "def erosion(img):\n",
    "    kernel = np.ones((5,5), np.uint8)\n",
    "    img_erosion = cv2.erode(img, kernel, iterations=1)\n",
    "    \n",
    "    return img_erosion\n",
    "\n",
    "def dilatation(img):\n",
    "    kernel = np.ones((10,10), np.uint8)\n",
    "    img_dilation = cv2.dilate(img, kernel, iterations=1)\n",
    "    return img_dilation\n",
    "\n",
    "def binarize_image(pixel_array, threshold=0):\n",
    "    pixel_array = np.array(pixel_array)\n",
    "    pixel_array[pixel_array<=threshold] = 0\n",
    "    pixel_array[pixel_array>threshold] = 95\n",
    "    return pixel_array\n",
    "\n",
    "def smooth_edges(img):\n",
    "    img = np.array(img, np.uint8)\n",
    "    img = Image.fromarray(img, 'L')\n",
    "    img = img.filter(ImageFilter.ModeFilter(size=13))\n",
    "    return img"
   ]
  },
  {
   "cell_type": "code",
   "execution_count": null,
   "metadata": {},
   "outputs": [],
   "source": [
    "filter_path = \"filter_images/\"\n",
    "\n",
    "for file in os.listdir(path):\n",
    "    f = os.path.join(path, file)\n",
    "    # checking if it is a file\n",
    "    if os.path.isfile(f):\n",
    "        ds = dcmread(f)\n",
    "        filtered_image = intensity_filter(ds.pixel_array)\n",
    "        filtered_image = noise_filter(filtered_image)\n",
    "        filtered_image = dilatation(filtered_image)\n",
    "        filtered_image = erosion(filtered_image)\n",
    "        \n",
    "        save_dicom_file(ds, filtered_image, os.path.join(filter_path, file))"
   ]
  },
  {
   "cell_type": "code",
   "execution_count": null,
   "metadata": {},
   "outputs": [],
   "source": [
    "reader = sitk.ImageSeriesReader()\n",
    "dicom_names = reader.GetGDCMSeriesFileNames(filter_path)\n",
    "reader.SetFileNames(dicom_names)\n",
    "filtered_image = reader.Execute()\n",
    "\n",
    "size = filtered_image.GetSize()\n",
    "size"
   ]
  },
  {
   "cell_type": "code",
   "execution_count": null,
   "metadata": {
    "scrolled": true
   },
   "outputs": [],
   "source": [
    "gui.MultiImageDisplay(image_list=[filtered_image], title_list=['Mouse Viewer'], figure_size=(8,6))"
   ]
  },
  {
   "cell_type": "code",
   "execution_count": null,
   "metadata": {},
   "outputs": [],
   "source": [
    "#!mkdir binary_images"
   ]
  },
  {
   "cell_type": "code",
   "execution_count": null,
   "metadata": {},
   "outputs": [],
   "source": [
    "binary_path = \"binary_images/\"\n",
    "\n",
    "for file in os.listdir(filter_path):\n",
    "    f = os.path.join(filter_path, file)\n",
    "    # checking if it is a file\n",
    "    if os.path.isfile(f):\n",
    "        ds = dcmread(f)\n",
    "        filtered_image = binarize_image(ds.pixel_array)\n",
    "        #filtered_image = smooth_edges(filtered_image)\n",
    "        \n",
    "        save_dicom_file(ds, filtered_image, os.path.join(binary_path, file))"
   ]
  },
  {
   "cell_type": "code",
   "execution_count": null,
   "metadata": {},
   "outputs": [],
   "source": [
    "reader = sitk.ImageSeriesReader()\n",
    "dicom_names = reader.GetGDCMSeriesFileNames(binary_path)\n",
    "reader.SetFileNames(dicom_names)\n",
    "binary_image = reader.Execute()\n",
    "\n",
    "size = binary_image.GetSize()\n",
    "size"
   ]
  },
  {
   "cell_type": "code",
   "execution_count": null,
   "metadata": {},
   "outputs": [],
   "source": [
    "gui.MultiImageDisplay(image_list=[binary_image], title_list=['Mouse Viewer'], figure_size=(8,6))"
   ]
  },
  {
   "cell_type": "markdown",
   "metadata": {},
   "source": [
    "# Binary 3D model"
   ]
  },
  {
   "cell_type": "code",
   "execution_count": null,
   "metadata": {},
   "outputs": [],
   "source": [
    "sitk.WriteImage(binary_image, \"mouse_binary.nii.gz\")"
   ]
  },
  {
   "cell_type": "code",
   "execution_count": null,
   "metadata": {},
   "outputs": [],
   "source": [
    "#Set limits to x and y for a good view\n",
    "mouse = sitk.ReadImage(\"mouse_binary.nii.gz\")\n",
    "itkwidgets.view(mouse)"
   ]
  },
  {
   "cell_type": "code",
   "execution_count": null,
   "metadata": {
    "scrolled": false
   },
   "outputs": [],
   "source": [
    "!python dicom2stl/dicom2stl.py -i 90 -o mouse_binary.stl mouse_binary.nii.gz"
   ]
  },
  {
   "cell_type": "code",
   "execution_count": null,
   "metadata": {
    "scrolled": true
   },
   "outputs": [],
   "source": [
    "mesh = vtkutils.readMesh('mouse_binary.stl')\n",
    "itkwidgets.view(mesh, geometries=[mesh])"
   ]
  },
  {
   "cell_type": "code",
   "execution_count": null,
   "metadata": {
    "scrolled": false
   },
   "outputs": [],
   "source": [
    "!python dicom2stl/dicom2stl.py --help"
   ]
  },
  {
   "cell_type": "code",
   "execution_count": null,
   "metadata": {
    "scrolled": false
   },
   "outputs": [],
   "source": [
    "!python dicom2stl/dicom2stl.py -a -i 90 -t soft_tissue -l --smooth 100 --reduce 0.6 -x 0.1 -o mouse_binary_2.stl mouse_binary.nii.gz"
   ]
  },
  {
   "cell_type": "code",
   "execution_count": null,
   "metadata": {
    "scrolled": true
   },
   "outputs": [],
   "source": [
    "mesh = vtkutils.readMesh('mouse_binary_2.stl')\n",
    "itkwidgets.view(mesh, geometries=[mesh])"
   ]
  },
  {
   "cell_type": "markdown",
   "metadata": {},
   "source": [
    "# Filtered 3D model"
   ]
  },
  {
   "cell_type": "code",
   "execution_count": null,
   "metadata": {},
   "outputs": [],
   "source": [
    "sitk.WriteImage(filtered_image, \"mouse_filtered.nii.gz\")"
   ]
  },
  {
   "cell_type": "code",
   "execution_count": null,
   "metadata": {},
   "outputs": [],
   "source": [
    "#Set limits to x and y for a good view\n",
    "mouse = sitk.ReadImage(\"mouse_filtered.nii.gz\")\n",
    "itkwidgets.view(mouse)"
   ]
  },
  {
   "cell_type": "code",
   "execution_count": null,
   "metadata": {
    "scrolled": false
   },
   "outputs": [],
   "source": [
    "!python dicom2stl/dicom2stl.py -i 90 -o mouse_filtered.stl mouse_filtered.nii.gz"
   ]
  },
  {
   "cell_type": "code",
   "execution_count": null,
   "metadata": {
    "scrolled": true
   },
   "outputs": [],
   "source": [
    "mesh = vtkutils.readMesh('mouse_filtered.stl')\n",
    "itkwidgets.view(mesh, geometries=[mesh])"
   ]
  },
  {
   "cell_type": "code",
   "execution_count": null,
   "metadata": {
    "scrolled": false
   },
   "outputs": [],
   "source": [
    "!python dicom2stl/dicom2stl.py --help"
   ]
  },
  {
   "cell_type": "code",
   "execution_count": null,
   "metadata": {
    "scrolled": false
   },
   "outputs": [],
   "source": [
    "!python dicom2stl/dicom2stl.py -a -i 70  -t soft_tissue -l --smooth 50 --reduce .1 -x 0.1 -o mouse_filtered_2.stl mouse_filtered.nii.gz"
   ]
  },
  {
   "cell_type": "code",
   "execution_count": null,
   "metadata": {
    "scrolled": true
   },
   "outputs": [],
   "source": [
    "mesh = vtkutils.readMesh('mouse_filtered_2.stl')\n",
    "itkwidgets.view(mesh, geometries=[mesh])"
   ]
  },
  {
   "cell_type": "code",
   "execution_count": null,
   "metadata": {},
   "outputs": [],
   "source": []
  },
  {
   "cell_type": "code",
   "execution_count": null,
   "metadata": {},
   "outputs": [],
   "source": [
    "filter_path = \"filter_images/\"\n",
    "treshhold= 95\n",
    "\n",
    "for file in os.listdir(path):\n",
    "    f = os.path.join(path, file)\n",
    "    # checking if it is a file\n",
    "    if os.path.isfile(f):\n",
    "        ds = dcmread(f)\n",
    "        #filtered_image_t = ds.pixel_array>treshhold\n",
    "#         filtered_image_t = intensity_filter(ds.pixel_array)\n",
    "#         filtered_image_t = noise_filter(filtered_image)\n",
    "#         filtered_image_t = dilatation(filtered_image)\n",
    "#         filtered_image_t = erosion(filtered_image)\n",
    "        \n",
    "        save_dicom_file(ds, filtered_image_t, os.path.join(filter_path, file))"
   ]
  },
  {
   "cell_type": "code",
   "execution_count": null,
   "metadata": {},
   "outputs": [],
   "source": [
    "reader = sitk.ImageSeriesReader()\n",
    "dicom_names = reader.GetGDCMSeriesFileNames(filter_path)\n",
    "reader.SetFileNames(dicom_names)\n",
    "filtered_image_t = reader.Execute()\n",
    "\n",
    "size = filtered_image_t.GetSize()\n",
    "size"
   ]
  },
  {
   "cell_type": "code",
   "execution_count": null,
   "metadata": {
    "scrolled": true
   },
   "outputs": [],
   "source": [
    "gui.MultiImageDisplay(image_list=[filtered_image_t], title_list=['Mouse Viewer'], figure_size=(8,6))"
   ]
  },
  {
   "cell_type": "code",
   "execution_count": null,
   "metadata": {},
   "outputs": [],
   "source": []
  },
  {
   "cell_type": "markdown",
   "metadata": {},
   "source": [
    "## Edge Detection Filtering"
   ]
  },
  {
   "cell_type": "markdown",
   "metadata": {},
   "source": [
    "# !mkdir edge_filter"
   ]
  },
  {
   "cell_type": "code",
   "execution_count": null,
   "metadata": {},
   "outputs": [],
   "source": [
    "def apply_edge_filter(pixel_array, adjust_value=0.00064, filter_type=\"prewitt\"):\n",
    "    if filter_type == \"prewitt\":\n",
    "        out = prewitt(pixel_array)\n",
    "    elif filter_type == \"roberts\":\n",
    "        out = roberts(pixel_array)\n",
    "    elif filter_type == \"sobel\":\n",
    "        out = sobel(pixel_array)\n",
    "    elif filter_type == \"scharr\":\n",
    "        out = scharr(pixel_array)\n",
    "        \n",
    "    out = out > adjust_value\n",
    "    out = out.astype(np.uint16)\n",
    "    return out"
   ]
  },
  {
   "cell_type": "code",
   "execution_count": null,
   "metadata": {},
   "outputs": [],
   "source": [
    "new_path = \"edge_filter/\"\n",
    "\n",
    "for file in os.listdir(path):\n",
    "    f = os.path.join(path, file)\n",
    "    # checking if it is a file\n",
    "    if os.path.isfile(f):\n",
    "        ds = dcmread(f)\n",
    "        filtered_image = apply_edge_filter(ds.pixel_array)\n",
    "        save_dicom_file(ds, filtered_image, os.path.join(new_path, file))"
   ]
  },
  {
   "cell_type": "code",
   "execution_count": null,
   "metadata": {},
   "outputs": [],
   "source": [
    "reader = sitk.ImageSeriesReader()\n",
    "dicom_names = reader.GetGDCMSeriesFileNames(new_path)\n",
    "reader.SetFileNames(dicom_names)\n",
    "image = reader.Execute()\n",
    "\n",
    "size = image.GetSize()\n",
    "size"
   ]
  },
  {
   "cell_type": "code",
   "execution_count": null,
   "metadata": {},
   "outputs": [],
   "source": [
    "gui.MultiImageDisplay(image_list=[image], title_list=['Mouse Viewer'], figure_size=(8,6))"
   ]
  },
  {
   "cell_type": "code",
   "execution_count": null,
   "metadata": {},
   "outputs": [],
   "source": [
    "sitk.WriteImage(image, \"mouse_filtered.nii.gz\")"
   ]
  },
  {
   "cell_type": "code",
   "execution_count": null,
   "metadata": {},
   "outputs": [],
   "source": [
    "#Set limits to x and y for a good view\n",
    "mouse = sitk.ReadImage(\"mouse_filtered.nii.gz\")\n",
    "itkwidgets.view(mouse)"
   ]
  },
  {
   "cell_type": "code",
   "execution_count": null,
   "metadata": {},
   "outputs": [],
   "source": [
    "!python dicom2stl/dicom2stl.py -i 1000 -o mouse_filtered.stl mouse_filtered.nii.gz"
   ]
  },
  {
   "cell_type": "code",
   "execution_count": null,
   "metadata": {},
   "outputs": [],
   "source": [
    "mesh = vtkutils.readMesh('mouse_filtered.stl')\n",
    "itkwidgets.view(mesh, geometries=[mesh])"
   ]
  },
  {
   "cell_type": "code",
   "execution_count": null,
   "metadata": {},
   "outputs": [],
   "source": [
    "!python dicom2stl/dicom2stl.py --help"
   ]
  },
  {
   "cell_type": "code",
   "execution_count": null,
   "metadata": {},
   "outputs": [],
   "source": [
    "!python dicom2stl/dicom2stl.py -a -i 90 -t soft_tissue -l --smooth 100 --reduce 0.6 -x 0.1 -o mouse_filtered_2.stl mouse_filtered_2.nii.gz"
   ]
  },
  {
   "cell_type": "code",
   "execution_count": null,
   "metadata": {},
   "outputs": [],
   "source": [
    "mesh = vtkutils.readMesh('mouse_filtered_2.stl')\n",
    "itkwidgets.view(mesh, geometries=[mesh])"
   ]
  },
  {
   "cell_type": "code",
   "execution_count": null,
   "metadata": {},
   "outputs": [],
   "source": []
  }
 ],
 "metadata": {
  "kernelspec": {
   "display_name": "Python 3",
   "language": "python",
   "name": "python3"
  },
  "language_info": {
   "codemirror_mode": {
    "name": "ipython",
    "version": 3
   },
   "file_extension": ".py",
   "mimetype": "text/x-python",
   "name": "python",
   "nbconvert_exporter": "python",
   "pygments_lexer": "ipython3",
   "version": "3.8.8"
  }
 },
 "nbformat": 4,
 "nbformat_minor": 2
}
